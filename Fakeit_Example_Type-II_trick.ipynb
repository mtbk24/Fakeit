{
 "cells": [
  {
   "cell_type": "markdown",
   "metadata": {},
   "source": [
    "# Fakeit in PyXspec"
   ]
  },
  {
   "cell_type": "markdown",
   "metadata": {},
   "source": [
    "This is an example of taking a type-II PHA file and using it as a 'dummy file' to trick Fakeit into producing type-II output files.\n",
    "Type-II will hold all 10,000 synthetic spectra we want to produce, instead of only one spectra (type-I).\n",
    "\n",
    "\n",
    "In order to trick Fakeit into outputting a type-II file, a type-II file must be read into XSPEC as a spectra.  Then we will read into XSPEC the spectra we wish to run Fakeit on.  We need to load this spectra because we need the program to read the STAT_ERR column and the POISSERR = T or = F  in both the source and background files."
   ]
  },
  {
   "cell_type": "code",
   "execution_count": 1,
   "metadata": {
    "collapsed": false
   },
   "outputs": [],
   "source": [
    "from __future__ import division\n",
    "from xspec import *\n",
    "import os"
   ]
  },
  {
   "cell_type": "code",
   "execution_count": 2,
   "metadata": {
    "collapsed": false
   },
   "outputs": [],
   "source": [
    "dataDir = \"/Users/KimiZ/GRBs2/analysis/LAT/bn080916009/integrated/\"\n",
    "modDir  = \"/Users/KimiZ/GRBs2/analysis/LAT/bn080916009/PYXSPEC/GBMwLAT/grbm+powerlaw/\"\n",
    "os.chdir(dataDir)"
   ]
  },
  {
   "cell_type": "code",
   "execution_count": 3,
   "metadata": {
    "collapsed": true
   },
   "outputs": [],
   "source": [
    "Xset.chatter = 0   # TURN OFF XSPEC CHATTER.\n",
    "AllData.clear()   # CLEAR ALL DATA, IF ANY."
   ]
  },
  {
   "cell_type": "markdown",
   "metadata": {},
   "source": [
    "### Load Data, dummy file and spectra."
   ]
  },
  {
   "cell_type": "markdown",
   "metadata": {},
   "source": [
    "s1 is the dummy type-II file.\n",
    "\n",
    "s2 is the type-I file that we want to make 10,000 synthetic spectra of.\n",
    "\n",
    "s1 is loaded into AllData(1) and s2 into AllData(2).  "
   ]
  },
  {
   "cell_type": "code",
   "execution_count": 4,
   "metadata": {
    "collapsed": false
   },
   "outputs": [],
   "source": [
    "#   DUMMY FILE, FORMAT IS TYPE-II !! \n",
    "s1              = Spectrum('bn080916009_LAT-LLE_srcspectra.pha{1}')\n",
    "s1              = AllData(1)\n",
    "s1.response     = 'bn080916009_LAT-LLE_weightedrsp.rsp{1}'\n",
    "s1.background   = 'bn080916009_LAT-LLE_bkgspectra.bak{1}'\n",
    "\n",
    "\n",
    "#   FORMAT FOR THIS FILE IS TYPE-I.\n",
    "#   WE WANT 10,000 SYNTHETIC SPECTRA FOR THIS ONE:\n",
    "s2              = Spectrum('glg_tte_n3_bn080916009_v01.pha1')\n",
    "s2              = AllData(2)\n",
    "s2.response     = 'glg_cspec_n3_bn080916009_v00.rsp2'\n",
    "s2.background   = 'glg_tte_n3_bn080916009_v01.bak'"
   ]
  },
  {
   "cell_type": "markdown",
   "metadata": {},
   "source": [
    "### Setting Model and Parameters"
   ]
  },
  {
   "cell_type": "code",
   "execution_count": 5,
   "metadata": {
    "collapsed": true
   },
   "outputs": [],
   "source": [
    "m1 = Model('grbm+powerlaw')\n",
    "\n",
    "m1.grbm.alpha.values        = [-0.7429, 0.00742, -10.0, -3.0, 2.0, 5.0]\n",
    "m1.grbm.beta.values         = [-2.177, 0.0217, -10.0, -5.0, 2.0, 10.0]\n",
    "m1.grbm.tem.values          = [305.505, 3.055, 10.0, 30.0, 6000.0, 7000.0]\n",
    "m1.grbm.norm.values         = [0.0190,0.00019, 1e-15, 1e-10, 1.0, 1.0]\n",
    "m1.powerlaw.PhoIndex.values = [2.077, 0.020, -3.0, -2.0, 9.0, 10.0]\n",
    "m1.powerlaw.norm.values     = [0.0009, 9.925e-06, 1e-15, 1e-10, 1.0, 1.0]\n",
    "\n",
    "#  FREEZE ALL MODEL PARAMETERS.\n",
    "for i in range(1, AllModels(1).nParameters+1):\n",
    "    Parameter.frozen.fset(AllModels(1)(i), 1)"
   ]
  },
  {
   "cell_type": "markdown",
   "metadata": {},
   "source": [
    "   "
   ]
  },
  {
   "cell_type": "markdown",
   "metadata": {},
   "source": [
    "### Fakeit Settings"
   ]
  },
  {
   "cell_type": "code",
   "execution_count": 6,
   "metadata": {
    "collapsed": true
   },
   "outputs": [],
   "source": [
    "fs1 = FakeitSettings()\n",
    "fs2 = FakeitSettings()\n",
    "fs3 = FakeitSettings()"
   ]
  },
  {
   "cell_type": "markdown",
   "metadata": {},
   "source": [
    "Here, we set up 3 Fakeit Settings because Fakeit will produce 1 file for each loaded spectra and then the remainder of the synthetic spectra will go into a third file.\n",
    "\n",
    "If we want 10,000 spectra to go into ONE single type-II file, then we really need to tell Fakit to make 10,002 spectra.\n",
    "s1 with fs1 settings goes into one file.  (1 spectra)\n",
    "s2 with fs2 settings goes into a second file.  (1 spectra)\n",
    "Remaining with fs3 settings goes into a third file.  (10,000 spectra)\n",
    "\n",
    "You can choose to not make fs3 settings and by default the fs2 settings would be applied to all 10,000 spectra.  This sounds fine because that's what we want anyhow.  However, the issue occurs when naming the file.\n",
    "\n",
    "Since XSPEC will make 3 files reguardless (1 for s1, 1 for s2, and then 1 for the remaining spectra), the third file created will write over the second file because it technically has the same name as the second one.  This causes issues with the creation of the third file and in some cases will either decide to make the third file or not.  So what will show up is either the 3rd file that wrote over the 2nd file and holds 10,000 spectra.  Or, the 3rd file never writes and you are left with the type-I file (the 2nd file produced) with only 1 spectra in it instead of all 10,000 like you wished.\n",
    "\n",
    "\n",
    "\n",
    "It's best to just use the same method we do here:\n",
    "\n"
   ]
  },
  {
   "cell_type": "markdown",
   "metadata": {},
   "source": [
    "#### fs1 are the settings from the loaded dummy file.\n",
    "#### fs2 are the setting from the loaded spectral file in s2.\n",
    "#### fs3, we specify those settings here.  They are technically the same as the fs2, except we use a different name to ouput the files to.  Instead of copying fs2 into fs3, we just set it up ourselves to ensure no issues occur.\n",
    "\n",
    "\n",
    "    *** If the 'fileName' is not specified for any of the \n",
    "    Fakeit Settings, the prefix of the loaded spectral file \n",
    "    will be used.  Instead of having a bunch of files named \n",
    "    too similar to our spectral files, but ending in .fak, \n",
    "    we set up junk1 and junk2 as the filenames."
   ]
  },
  {
   "cell_type": "code",
   "execution_count": 7,
   "metadata": {
    "collapsed": false
   },
   "outputs": [],
   "source": [
    "fs1.fileName = 'junk1.fak'\n",
    "fs2.fileName = 'junk2.fak'\n",
    "\n",
    "fs3.background ='glg_tte_n3_bn080916009_v01.bak'\n",
    "fs3.response = 'glg_cspec_n3_bn080916009_v00.rsp2'\n",
    "fs3.fileName = 'grbm+pow_n3.fak'"
   ]
  },
  {
   "cell_type": "code",
   "execution_count": 8,
   "metadata": {
    "collapsed": true
   },
   "outputs": [],
   "source": [
    "# MAKE A PYTHON LIST THAT HOLDS 10,000 COPIES OF THE fs3 SETTINGS\n",
    "# TO GO WITH THE 10,000 SPECTRA IT WILL MAKE.\n",
    "FS = [fs3]*10000\n",
    "\n",
    "# THEN, INSERT THE SETTINGS FOR THE LOADED SPECTRA AT THE \n",
    "# BEGINNING OF THE FAKEIT SETTINGS LIST 'FS'\n",
    "FS.insert(0, fs2)\n",
    "FS.insert(0, fs1)"
   ]
  },
  {
   "cell_type": "markdown",
   "metadata": {},
   "source": [
    "#### FS contains all the fakeit settings for the 10,002 spectra.\n",
    "    len(FS) = 10002\n",
    "#### The first two settings in the list should appear different from the remaining 10,000.\n",
    "    FS[0:5]\n",
    "    [<xspec.data.FakeitSettings at 0x10ce1c950>,\n",
    "     <xspec.data.FakeitSettings at 0x112be7450>,\n",
    "     <xspec.data.FakeitSettings at 0x112be74d0>,\n",
    "     <xspec.data.FakeitSettings at 0x112be74d0>,\n",
    "     <xspec.data.FakeitSettings at 0x112be74d0>]\n",
    "    "
   ]
  },
  {
   "cell_type": "code",
   "execution_count": 9,
   "metadata": {
    "collapsed": false
   },
   "outputs": [
    {
     "name": "stdout",
     "output_type": "stream",
     "text": [
      "('junk1.fak', 'junk2.fak', 'grbm+pow_n3.fak')\n"
     ]
    }
   ],
   "source": [
    "print(FS[0].fileName, FS[1].fileName, FS[2].fileName)"
   ]
  },
  {
   "cell_type": "markdown",
   "metadata": {},
   "source": [
    "## Send it off to make spectra!"
   ]
  },
  {
   "cell_type": "code",
   "execution_count": 10,
   "metadata": {
    "collapsed": true
   },
   "outputs": [],
   "source": [
    "AllData.fakeit(len(FS), FS)"
   ]
  },
  {
   "cell_type": "markdown",
   "metadata": {},
   "source": [
    "  "
   ]
  }
 ],
 "metadata": {
  "kernelspec": {
   "display_name": "Python 2",
   "language": "python",
   "name": "python2"
  },
  "language_info": {
   "codemirror_mode": {
    "name": "ipython",
    "version": 2
   },
   "file_extension": ".py",
   "mimetype": "text/x-python",
   "name": "python",
   "nbconvert_exporter": "python",
   "pygments_lexer": "ipython2",
   "version": "2.7.5"
  }
 },
 "nbformat": 4,
 "nbformat_minor": 0
}
