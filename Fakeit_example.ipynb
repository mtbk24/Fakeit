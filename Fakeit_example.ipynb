{
 "cells": [
  {
   "cell_type": "code",
   "execution_count": 1,
   "metadata": {
    "collapsed": false
   },
   "outputs": [],
   "source": [
    "from __future__ import division\n",
    "from xspec import *\n",
    "import os"
   ]
  },
  {
   "cell_type": "code",
   "execution_count": 2,
   "metadata": {
    "collapsed": false
   },
   "outputs": [],
   "source": [
    "dataDir = \"/Users/KimiZ/GRBs2/analysis/LAT/bn080916009/integrated/\"\n",
    "modDir  = \"/Users/KimiZ/GRBs2/analysis/LAT/bn080916009/PYXSPEC/GBMwLAT/grbm+powerlaw/\"\n",
    "os.chdir(dataDir)"
   ]
  },
  {
   "cell_type": "markdown",
   "metadata": {
    "collapsed": true
   },
   "source": [
    "#### Only need to read in the dummy type-II file."
   ]
  },
  {
   "cell_type": "code",
   "execution_count": 3,
   "metadata": {
    "collapsed": false
   },
   "outputs": [],
   "source": [
    "Xset.chatter = 0\n",
    "AllData.clear()\n",
    "\n",
    "s1              = Spectrum('bn080916009_LAT-LLE_srcspectra.pha{1}')\n",
    "s1              = AllData(1)\n",
    "s1.response     = 'bn080916009_LAT-LLE_weightedrsp.rsp{1}'\n",
    "s1.background   = 'bn080916009_LAT-LLE_bkgspectra.bak{1}'"
   ]
  },
  {
   "cell_type": "markdown",
   "metadata": {},
   "source": [
    "#### Setting Model and Parameters"
   ]
  },
  {
   "cell_type": "code",
   "execution_count": 4,
   "metadata": {
    "collapsed": true
   },
   "outputs": [],
   "source": [
    "m1 = Model('grbm+powerlaw')\n",
    "\n",
    "m1.grbm.alpha.values        = [-0.7429, 0.00742, -10.0, -3.0, 2.0, 5.0]\n",
    "m1.grbm.beta.values         = [-2.177, 0.0217, -10.0, -5.0, 2.0, 10.0]\n",
    "m1.grbm.tem.values          = [305.505, 3.055, 10.0, 30.0, 6000.0, 7000.0]\n",
    "m1.grbm.norm.values         = [0.0190,0.00019, 1e-15, 1e-10, 1.0, 1.0]\n",
    "m1.powerlaw.PhoIndex.values = [2.077, 0.020, -3.0, -2.0, 9.0, 10.0]\n",
    "m1.powerlaw.norm.values     = [0.0009, 9.925e-06, 1e-15, 1e-10, 1.0, 1.0]\n",
    "\n",
    "for i in range(1, AllModels(1).nParameters+1):\n",
    "    Parameter.frozen.fset(AllModels(1)(i), 1)"
   ]
  },
  {
   "cell_type": "markdown",
   "metadata": {},
   "source": [
    "   "
   ]
  },
  {
   "cell_type": "markdown",
   "metadata": {},
   "source": [
    "   "
   ]
  },
  {
   "cell_type": "markdown",
   "metadata": {},
   "source": [
    "#### Fakeit Settings"
   ]
  },
  {
   "cell_type": "code",
   "execution_count": 5,
   "metadata": {
    "collapsed": true
   },
   "outputs": [],
   "source": [
    "fs1 = FakeitSettings()\n",
    "fs2 = FakeitSettings()"
   ]
  },
  {
   "cell_type": "code",
   "execution_count": 6,
   "metadata": {
    "collapsed": false
   },
   "outputs": [],
   "source": [
    "fs2.background ='glg_tte_n3_bn080916009_v01.bak'\n",
    "fs2.response = 'glg_cspec_n3_bn080916009_v00.rsp2'\n",
    "fs2.fileName = 'fakespec_n3_grbm+pow_-01-_L_.fak'"
   ]
  },
  {
   "cell_type": "code",
   "execution_count": 7,
   "metadata": {
    "collapsed": false
   },
   "outputs": [],
   "source": [
    "# make a list that holds 10,000 copies of the same spectra.\n",
    "FS = [fs2]*10000\n",
    "\n",
    "# insert the f1 settings at the beginning of that list. \n",
    "# len(FS) will be 10,001 after this insert.\n",
    "FS.insert(0, fs1)\n",
    "\n",
    "# Send it off.\n",
    "AllData.fakeit(10001, FS)"
   ]
  },
  {
   "cell_type": "markdown",
   "metadata": {},
   "source": [
    "  "
   ]
  }
 ],
 "metadata": {
  "kernelspec": {
   "display_name": "Python 2",
   "language": "python",
   "name": "python2"
  },
  "language_info": {
   "codemirror_mode": {
    "name": "ipython",
    "version": 2
   },
   "file_extension": ".py",
   "mimetype": "text/x-python",
   "name": "python",
   "nbconvert_exporter": "python",
   "pygments_lexer": "ipython2",
   "version": "2.7.5"
  }
 },
 "nbformat": 4,
 "nbformat_minor": 0
}
